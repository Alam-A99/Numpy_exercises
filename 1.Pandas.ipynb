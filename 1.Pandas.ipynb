{
 "cells": [
  {
   "cell_type": "code",
   "execution_count": 69,
   "id": "766474a3-1c8b-4bb9-8c3c-b37af7f9a5ba",
   "metadata": {},
   "outputs": [
    {
     "data": {
      "text/html": [
       "<img src=\"https://github.com/Alam-A99/Visualisation/blob/main/1-5.%20Cikal%20Akal%20-%20Black%20copy.png?raw=true\"/>"
      ],
      "text/plain": [
       "<IPython.core.display.Image object>"
      ]
     },
     "execution_count": 69,
     "metadata": {},
     "output_type": "execute_result"
    }
   ],
   "source": [
    "Image(url='https://github.com/Alam-A99/Visualisation/blob/main/1-5.%20Cikal%20Akal%20-%20Black%20copy.png?raw=true')"
   ]
  },
  {
   "cell_type": "markdown",
   "id": "273f63f1-9682-41eb-b937-40def977907a",
   "metadata": {},
   "source": [
    "# PANDAS\n",
    "Library Pandas memiliki dua tipe struktur data untuk versi terbaru yaitu Series dan Data Frame serta satu deprecated struktur data yaitu Panel (deprecated). \n",
    "\n",
    "## Series\n",
    "\n",
    "Series diibaratkan sebagai array satu dimensi sama halnya dengan numpy array, hanya bedanya mempunyai index dan kita dapat mengontrol index dari setiap elemen tersebut. Sedangkan data frame merupakan array dua dimensi dengan baris dan kolom. Struktur data ini merupakan cara paling standar untuk menyimpan data dalam bentuk tabel/data tabular. Dapat disimpulkan, bahwa Pandas merupakan library analisis data yang diperlukan untuk membersihkan data mentah ke dalam sebuah bentuk yang bisa untuk diolah.\n",
    "\n",
    "1. Series diibaratkan sebagai array satu dimensi sama halnya dengan numpy array, hanya bedanya mempunyai index dan index tersebut dapat kita kontrol dari setiap elemen tersebut."
   ]
  },
  {
   "cell_type": "markdown",
   "id": "d5e5137d-32a3-4afc-8e4b-b5822d17c905",
   "metadata": {},
   "source": [
    "#1 Series\n",
    "Parameter  data, diisi dengan data yang akan dibuat series. Struktur data yang bisa ditampung berupa integer, float, dan juga string. parameter index, diisi dengan index dari series. Jumlah index harus sama dengan jumlah data. Jika kita tidak mengisi parameter index, maka series akan memiliki index integer seperti halnya array biasa. Parameter dtype, diisi dengan tipe data dari series, dan parameter copy untuk copy data, secara default akan bernilai false.\n",
    "\n",
    "pandas.Series(data=None, index=None, dtype=None, name=None, copy=False, fastpath=False)\n"
   ]
  },
  {
   "cell_type": "code",
   "execution_count": 1,
   "id": "9fe2d0e4-37cd-4af8-884d-1dc1e5671d04",
   "metadata": {},
   "outputs": [
    {
     "name": "stdout",
     "output_type": "stream",
     "text": [
      "0     2\n",
      "1     4\n",
      "2     6\n",
      "3     8\n",
      "4    10\n",
      "dtype: int64\n"
     ]
    }
   ],
   "source": [
    "# 1. contoh Series\n",
    "import pandas as pd  #pastikan running dulu pandas dan numpy\n",
    "import numpy as np\n",
    "ds = pd.Series([2, 4, 6, 8, 10]) #menampilkan array 1-deimensi\n",
    "\n",
    "print(ds)"
   ]
  },
  {
   "cell_type": "code",
   "execution_count": 27,
   "id": "4ae56c1c-dae1-4762-81b4-222f1a69233c",
   "metadata": {},
   "outputs": [
    {
     "name": "stdout",
     "output_type": "stream",
     "text": [
      "0    a\n",
      "1    b\n",
      "2    c\n",
      "dtype: object\n",
      "0    x\n",
      "1    y\n",
      "2    z\n",
      "dtype: object\n",
      "2    x\n",
      "3    y\n",
      "4    z\n",
      "dtype: object\n"
     ]
    }
   ],
   "source": [
    "data = pd.Series(['a','b','c']) #!sS\n",
    "np1 = np.array(['x','y','z'])\n",
    "data_np = pd.Series(np1)\n",
    "\n",
    "print(data)\n",
    "print(data_np)\n",
    "\n",
    "#mengatur indeks pada numpy array data-np di atas\n",
    "data_np = pd.Series(np1, index=[2,3,4]) \n",
    "print(data_np)"
   ]
  },
  {
   "cell_type": "code",
   "execution_count": 19,
   "id": "b3ab5064-d293-45f5-af74-1bcfb4e2cd3f",
   "metadata": {},
   "outputs": [
    {
     "name": "stdout",
     "output_type": "stream",
     "text": [
      "0     3\n",
      "1     7\n",
      "2    11\n",
      "3    15\n",
      "4    19\n",
      "dtype: int64\n",
      "0    1\n",
      "1    1\n",
      "2    1\n",
      "3    1\n",
      "4    1\n",
      "dtype: int64\n",
      "0     2\n",
      "1    12\n",
      "2    30\n",
      "3    56\n",
      "4    90\n",
      "dtype: int64\n",
      "0    2.000000\n",
      "1    1.333333\n",
      "2    1.200000\n",
      "3    1.142857\n",
      "4    1.111111\n",
      "dtype: float64\n"
     ]
    }
   ],
   "source": [
    "# contoh operasi\n",
    "ds1 = pd.Series([2, 4, 6, 8, 10])\n",
    "ds2 = pd.Series([1, 3, 5, 7, 9])\n",
    "dsa = ds1 + ds2  #operasi jumlah\n",
    "dsb = ds1 - ds2\n",
    "dsc = ds1 * ds2\n",
    "dsd = ds1 / ds2\n",
    "print(dsa)\n",
    "print(dsb)\n",
    "print(dsc)\n",
    "print(dsd)"
   ]
  },
  {
   "cell_type": "code",
   "execution_count": 1,
   "id": "c70b7530-a79d-413b-bcba-f2ceeca2db44",
   "metadata": {},
   "outputs": [
    {
     "name": "stdout",
     "output_type": "stream",
     "text": [
      "Pandas Series dan type\n",
      "0     2\n",
      "1     4\n",
      "2     6\n",
      "3     8\n",
      "4    10\n",
      "dtype: int64\n",
      "<class 'pandas.core.series.Series'>\n",
      "Konver Pandas Series ke Python list\n",
      "[2, 4, 6, 8, 10]\n",
      "<class 'list'>\n"
     ]
    }
   ],
   "source": [
    "#konver pandas module Series ke python list\n",
    "import pandas as pd\n",
    "ds = pd.Series([2, 4, 6, 8, 10])\n",
    "print(\"Pandas Series dan type\")\n",
    "print(ds)\n",
    "print(type(ds))\n",
    "print(\"Konver Pandas Series ke Python list\")\n",
    "print(ds.tolist())\n",
    "print(type(ds.tolist()))\n",
    "\n"
   ]
  },
  {
   "cell_type": "code",
   "execution_count": 17,
   "id": "7852d243-97cf-4ce1-ab62-8ed211aa2da7",
   "metadata": {},
   "outputs": [
    {
     "name": "stdout",
     "output_type": "stream",
     "text": [
      "NumPy array:\n",
      "[ 0 20 30 40 50]\n",
      "konversi Pandas series:\n",
      "0     0\n",
      "1    20\n",
      "2    30\n",
      "3    40\n",
      "4    50\n",
      "dtype: int64\n"
     ]
    }
   ],
   "source": [
    "#convert a NumPy array to a Pandas series\n",
    "import numpy as np\n",
    "import pandas as pd\n",
    "np_array = np.array([0, 20, 30, 40, 50])\n",
    "print(\"NumPy array:\")\n",
    "print(np_array)\n",
    "new_np = pd.Series(np_array)\n",
    "print(\"konversi Pandas series:\")\n",
    "print(new_np)"
   ]
  },
  {
   "cell_type": "markdown",
   "id": "978397b7-53ad-489c-8e82-3047374b1511",
   "metadata": {},
   "source": [
    "#### Program pandas menghitung minimum, persentil 25, median, persentil 75 dan maksimum dari series"
   ]
  },
  {
   "cell_type": "code",
   "execution_count": 37,
   "id": "172de935-b318-4618-89b6-47b79a2cd8df",
   "metadata": {},
   "outputs": [
    {
     "name": "stdout",
     "output_type": "stream",
     "text": [
      "0      3.000938\n",
      "1     11.370722\n",
      "2     14.612143\n",
      "3      8.990256\n",
      "4     13.925283\n",
      "5     12.056875\n",
      "6     10.884719\n",
      "7      5.719827\n",
      "8      9.242017\n",
      "9     11.020006\n",
      "10     8.167892\n",
      "11    11.740654\n",
      "12     7.665620\n",
      "13    13.267388\n",
      "14    12.690883\n",
      "15     9.582355\n",
      "16     7.874878\n",
      "17    14.118931\n",
      "18     8.247458\n",
      "19     5.526727\n",
      "dtype: float64\n"
     ]
    }
   ],
   "source": [
    "# https://numpy.org/doc/1.16/reference/generated/numpy.random.RandomState.html\n",
    "\n",
    "import pandas as pd\n",
    "import numpy as np\n",
    "num_state = np.random.RandomState(100)   #generate angka random\n",
    "num_series = pd.Series(num_state.normal(10, 4, 20))\n",
    "\n",
    "print(num_series)"
   ]
  },
  {
   "cell_type": "code",
   "execution_count": 63,
   "id": "09de84f2-8dcd-451e-8175-ff3f34e02555",
   "metadata": {},
   "outputs": [
    {
     "data": {
      "text/html": [
       "<img src=\"https://media.geeksforgeeks.org/wp-content/uploads/dataSER-1.png\" width=\"500\" height=\"300\"/>"
      ],
      "text/plain": [
       "<IPython.core.display.Image object>"
      ]
     },
     "execution_count": 63,
     "metadata": {},
     "output_type": "execute_result"
    }
   ],
   "source": [
    "# get the image\n",
    "Image(url=\"https://media.geeksforgeeks.org/wp-content/uploads/dataSER-1.png\", width=500, height=300)"
   ]
  },
  {
   "cell_type": "code",
   "execution_count": 33,
   "id": "eb846831-774a-477e-a09b-0e2f2e8d6494",
   "metadata": {},
   "outputs": [
    {
     "name": "stdout",
     "output_type": "stream",
     "text": [
      "Original Series:\n",
      "0      3.000938\n",
      "1     11.370722\n",
      "2     14.612143\n",
      "3      8.990256\n",
      "4     13.925283\n",
      "5     12.056875\n",
      "6     10.884719\n",
      "7      5.719827\n",
      "8      9.242017\n",
      "9     11.020006\n",
      "10     8.167892\n",
      "11    11.740654\n",
      "12     7.665620\n",
      "13    13.267388\n",
      "14    12.690883\n",
      "15     9.582355\n",
      "16     7.874878\n",
      "17    14.118931\n",
      "18     8.247458\n",
      "19     5.526727\n",
      "dtype: float64\n",
      "\n",
      "Minimum, persentil-25, median, persentil-75, and maksimum data series:\n",
      "[ 3.00093811  8.09463867 10.23353705 12.21537733 14.61214321]\n"
     ]
    }
   ],
   "source": [
    "import pandas as pd\n",
    "import numpy as np\n",
    "num_state = np.random.RandomState(100) \n",
    "num_series = pd.Series(num_state.normal(10, 4, 20))\n",
    "print(\"Original Series:\")\n",
    "print(num_series)\n",
    "result = np.percentile(num_series, q=[0, 25, 50, 75, 100])\n",
    "print(\"\\nMinimum, persentil-25, median, persentil-75, and maksimum data series:\")\n",
    "print(result)"
   ]
  },
  {
   "cell_type": "markdown",
   "id": "17b4b946-7125-4931-8b51-6548af5c26b1",
   "metadata": {},
   "source": [
    "### Jenis-jenis series pandas dapat dilihat pada link\n",
    "\n",
    "https://pandas.pydata.org/docs/reference/api/pandas.Series.describe.html\n",
    "\n",
    "### SILAKAN MEMPELAJARI JENIS-JENIA SERIES YANG LAIN, Pastikan bahwa setiap step dipahami dengan baik. "
   ]
  },
  {
   "cell_type": "code",
   "execution_count": null,
   "id": "328a895b-6871-4a06-b329-19f570b172bf",
   "metadata": {},
   "outputs": [],
   "source": [
    "# SOAL LATIHAN Nomor_0, berikan minimal 7 contoh jenis pandas.series yang lain"
   ]
  },
  {
   "cell_type": "markdown",
   "id": "041e7773-7b45-49bd-86a3-b61f350d5138",
   "metadata": {
    "tags": []
   },
   "source": [
    "# Data Frame\n",
    "Data frame merupakan tabel/data tabular dengan array dua dimensi yaitu baris dan kolom. Struktur data ini merupakan cara paling standar untuk menyimpan data. Setiap kolom pada data frame merupakan objek dari Series, dan baris terdiri dari elemen yang ada pada Series.\n",
    "\n",
    "*pandas.DataFrame(data, index, columns, dtype, copy)*\n",
    "- index merupakan label untuk baris\n",
    "- columns merupakan label untuk kolom\n",
    "- dtype merupakan tipe data per kolom\n",
    "- copy digunakan untuk menyalin data, defaultnya False"
   ]
  },
  {
   "cell_type": "code",
   "execution_count": 52,
   "id": "d1f996fa-02a3-4e24-b7c8-ee9ca13a8b2b",
   "metadata": {},
   "outputs": [
    {
     "data": {
      "text/html": [
       "<img src=\"https://e6v4p8w2.rocketcdn.me/wp-content/uploads/2020/05/What-is-Pandas-Dataframe.png\" width=\"600\" height=\"400\"/>"
      ],
      "text/plain": [
       "<IPython.core.display.Image object>"
      ]
     },
     "execution_count": 52,
     "metadata": {},
     "output_type": "execute_result"
    }
   ],
   "source": [
    "Image(url='https://e6v4p8w2.rocketcdn.me/wp-content/uploads/2020/05/What-is-Pandas-Dataframe.png', width=600, height=400)"
   ]
  },
  {
   "cell_type": "code",
   "execution_count": 47,
   "id": "38b347bf-6af2-409c-b794-97cd925f762a",
   "metadata": {},
   "outputs": [
    {
     "data": {
      "text/html": [
       "<div>\n",
       "<style scoped>\n",
       "    .dataframe tbody tr th:only-of-type {\n",
       "        vertical-align: middle;\n",
       "    }\n",
       "\n",
       "    .dataframe tbody tr th {\n",
       "        vertical-align: top;\n",
       "    }\n",
       "\n",
       "    .dataframe thead th {\n",
       "        text-align: right;\n",
       "    }\n",
       "</style>\n",
       "<table border=\"1\" class=\"dataframe\">\n",
       "  <thead>\n",
       "    <tr style=\"text-align: right;\">\n",
       "      <th></th>\n",
       "      <th>A</th>\n",
       "      <th>B</th>\n",
       "      <th>C</th>\n",
       "      <th>D</th>\n",
       "      <th>F</th>\n",
       "    </tr>\n",
       "  </thead>\n",
       "  <tbody>\n",
       "    <tr>\n",
       "      <th>2021-01-01</th>\n",
       "      <td>-1.273804</td>\n",
       "      <td>-1.720169</td>\n",
       "      <td>0.446024</td>\n",
       "      <td>0.092756</td>\n",
       "      <td>-0.105153</td>\n",
       "    </tr>\n",
       "    <tr>\n",
       "      <th>2021-01-02</th>\n",
       "      <td>-0.250388</td>\n",
       "      <td>1.704803</td>\n",
       "      <td>1.937308</td>\n",
       "      <td>-1.247349</td>\n",
       "      <td>-0.137108</td>\n",
       "    </tr>\n",
       "    <tr>\n",
       "      <th>2021-01-03</th>\n",
       "      <td>0.372312</td>\n",
       "      <td>-0.493572</td>\n",
       "      <td>-1.418603</td>\n",
       "      <td>0.058592</td>\n",
       "      <td>-1.214880</td>\n",
       "    </tr>\n",
       "    <tr>\n",
       "      <th>2021-01-04</th>\n",
       "      <td>0.471890</td>\n",
       "      <td>1.568787</td>\n",
       "      <td>-1.968410</td>\n",
       "      <td>-1.598385</td>\n",
       "      <td>0.696232</td>\n",
       "    </tr>\n",
       "    <tr>\n",
       "      <th>2021-01-05</th>\n",
       "      <td>0.797063</td>\n",
       "      <td>-0.211012</td>\n",
       "      <td>0.484663</td>\n",
       "      <td>-0.381633</td>\n",
       "      <td>1.090844</td>\n",
       "    </tr>\n",
       "    <tr>\n",
       "      <th>2021-01-06</th>\n",
       "      <td>0.568444</td>\n",
       "      <td>-1.106250</td>\n",
       "      <td>-1.676460</td>\n",
       "      <td>-0.327235</td>\n",
       "      <td>-0.244653</td>\n",
       "    </tr>\n",
       "    <tr>\n",
       "      <th>2021-01-07</th>\n",
       "      <td>-0.673781</td>\n",
       "      <td>-0.568840</td>\n",
       "      <td>-0.021757</td>\n",
       "      <td>0.892086</td>\n",
       "      <td>-1.218463</td>\n",
       "    </tr>\n",
       "    <tr>\n",
       "      <th>2021-01-08</th>\n",
       "      <td>-0.037467</td>\n",
       "      <td>1.915602</td>\n",
       "      <td>-0.896147</td>\n",
       "      <td>-0.549109</td>\n",
       "      <td>1.069307</td>\n",
       "    </tr>\n",
       "    <tr>\n",
       "      <th>2021-01-09</th>\n",
       "      <td>0.597420</td>\n",
       "      <td>-0.650501</td>\n",
       "      <td>-0.686583</td>\n",
       "      <td>-0.667663</td>\n",
       "      <td>-0.657284</td>\n",
       "    </tr>\n",
       "    <tr>\n",
       "      <th>2021-01-10</th>\n",
       "      <td>-1.783996</td>\n",
       "      <td>-0.145875</td>\n",
       "      <td>-0.628139</td>\n",
       "      <td>-0.007983</td>\n",
       "      <td>0.695997</td>\n",
       "    </tr>\n",
       "    <tr>\n",
       "      <th>2021-01-11</th>\n",
       "      <td>0.175716</td>\n",
       "      <td>1.287484</td>\n",
       "      <td>-1.082421</td>\n",
       "      <td>1.205474</td>\n",
       "      <td>-0.754486</td>\n",
       "    </tr>\n",
       "    <tr>\n",
       "      <th>2021-01-12</th>\n",
       "      <td>-0.700512</td>\n",
       "      <td>-0.836212</td>\n",
       "      <td>-1.112997</td>\n",
       "      <td>-0.581123</td>\n",
       "      <td>-0.506306</td>\n",
       "    </tr>\n",
       "  </tbody>\n",
       "</table>\n",
       "</div>"
      ],
      "text/plain": [
       "                   A         B         C         D         F\n",
       "2021-01-01 -1.273804 -1.720169  0.446024  0.092756 -0.105153\n",
       "2021-01-02 -0.250388  1.704803  1.937308 -1.247349 -0.137108\n",
       "2021-01-03  0.372312 -0.493572 -1.418603  0.058592 -1.214880\n",
       "2021-01-04  0.471890  1.568787 -1.968410 -1.598385  0.696232\n",
       "2021-01-05  0.797063 -0.211012  0.484663 -0.381633  1.090844\n",
       "2021-01-06  0.568444 -1.106250 -1.676460 -0.327235 -0.244653\n",
       "2021-01-07 -0.673781 -0.568840 -0.021757  0.892086 -1.218463\n",
       "2021-01-08 -0.037467  1.915602 -0.896147 -0.549109  1.069307\n",
       "2021-01-09  0.597420 -0.650501 -0.686583 -0.667663 -0.657284\n",
       "2021-01-10 -1.783996 -0.145875 -0.628139 -0.007983  0.695997\n",
       "2021-01-11  0.175716  1.287484 -1.082421  1.205474 -0.754486\n",
       "2021-01-12 -0.700512 -0.836212 -1.112997 -0.581123 -0.506306"
      ]
     },
     "execution_count": 47,
     "metadata": {},
     "output_type": "execute_result"
    }
   ],
   "source": [
    "#generate DataFrame df\n",
    "dates = pd.date_range(\"20210101\", periods=12) #buat tabel data tahun 2021\n",
    "dates\n",
    "df = pd.DataFrame(np.random.randn(12, 5), index=dates, columns=list(\"ABCDF\")) \n",
    "# angka 12 sama dengan periods baris 1, 5 sesuai dengan jumlah kolom\n",
    "df"
   ]
  },
  {
   "cell_type": "code",
   "execution_count": 69,
   "id": "e416df5f-f7d6-4445-a1dc-f1442886bf7c",
   "metadata": {},
   "outputs": [
    {
     "ename": "ValueError",
     "evalue": "All arrays must be of the same length",
     "output_type": "error",
     "traceback": [
      "\u001b[0;31m---------------------------------------------------------------------------\u001b[0m",
      "\u001b[0;31mValueError\u001b[0m                                Traceback (most recent call last)",
      "\u001b[0;32m/var/folders/1f/mrxl78810qzgc8gzlc7c47xr0000gn/T/ipykernel_8471/1113906238.py\u001b[0m in \u001b[0;36m<module>\u001b[0;34m\u001b[0m\n\u001b[1;32m      8\u001b[0m         \u001b[0;34m\"D\"\u001b[0m\u001b[0;34m:\u001b[0m \u001b[0mnp\u001b[0m\u001b[0;34m.\u001b[0m\u001b[0marray\u001b[0m\u001b[0;34m(\u001b[0m\u001b[0;34m[\u001b[0m\u001b[0;36m2\u001b[0m\u001b[0;34m]\u001b[0m \u001b[0;34m*\u001b[0m \u001b[0;36m5\u001b[0m\u001b[0;34m,\u001b[0m \u001b[0mdtype\u001b[0m\u001b[0;34m=\u001b[0m\u001b[0;34m\"int32\"\u001b[0m\u001b[0;34m)\u001b[0m\u001b[0;34m,\u001b[0m\u001b[0;34m\u001b[0m\u001b[0;34m\u001b[0m\u001b[0m\n\u001b[1;32m      9\u001b[0m         \u001b[0;34m\"E\"\u001b[0m\u001b[0;34m:\u001b[0m \u001b[0mpd\u001b[0m\u001b[0;34m.\u001b[0m\u001b[0mCategorical\u001b[0m\u001b[0;34m(\u001b[0m\u001b[0;34m[\u001b[0m\u001b[0;34m\"kami\"\u001b[0m\u001b[0;34m,\u001b[0m \u001b[0;34m\"mahasiswa\"\u001b[0m\u001b[0;34m,\u001b[0m \u001b[0;34m\"bisnis\"\u001b[0m\u001b[0;34m,\u001b[0m \u001b[0;34m\"digital\"\u001b[0m\u001b[0;34m]\u001b[0m\u001b[0;34m)\u001b[0m\u001b[0;34m,\u001b[0m\u001b[0;34m\u001b[0m\u001b[0;34m\u001b[0m\u001b[0m\n\u001b[0;32m---> 10\u001b[0;31m         \u001b[0;34m\"F\"\u001b[0m\u001b[0;34m:\u001b[0m \u001b[0;34m\"unm\"\u001b[0m\u001b[0;34m,\u001b[0m\u001b[0;34m\u001b[0m\u001b[0;34m\u001b[0m\u001b[0m\n\u001b[0m\u001b[1;32m     11\u001b[0m     }\n\u001b[1;32m     12\u001b[0m )\n",
      "\u001b[0;32m~/opt/anaconda3/lib/python3.7/site-packages/pandas/core/frame.py\u001b[0m in \u001b[0;36m__init__\u001b[0;34m(self, data, index, columns, dtype, copy)\u001b[0m\n\u001b[1;32m    612\u001b[0m         \u001b[0;32melif\u001b[0m \u001b[0misinstance\u001b[0m\u001b[0;34m(\u001b[0m\u001b[0mdata\u001b[0m\u001b[0;34m,\u001b[0m \u001b[0mdict\u001b[0m\u001b[0;34m)\u001b[0m\u001b[0;34m:\u001b[0m\u001b[0;34m\u001b[0m\u001b[0;34m\u001b[0m\u001b[0m\n\u001b[1;32m    613\u001b[0m             \u001b[0;31m# GH#38939 de facto copy defaults to False only in non-dict cases\u001b[0m\u001b[0;34m\u001b[0m\u001b[0;34m\u001b[0m\u001b[0;34m\u001b[0m\u001b[0m\n\u001b[0;32m--> 614\u001b[0;31m             \u001b[0mmgr\u001b[0m \u001b[0;34m=\u001b[0m \u001b[0mdict_to_mgr\u001b[0m\u001b[0;34m(\u001b[0m\u001b[0mdata\u001b[0m\u001b[0;34m,\u001b[0m \u001b[0mindex\u001b[0m\u001b[0;34m,\u001b[0m \u001b[0mcolumns\u001b[0m\u001b[0;34m,\u001b[0m \u001b[0mdtype\u001b[0m\u001b[0;34m=\u001b[0m\u001b[0mdtype\u001b[0m\u001b[0;34m,\u001b[0m \u001b[0mcopy\u001b[0m\u001b[0;34m=\u001b[0m\u001b[0mcopy\u001b[0m\u001b[0;34m,\u001b[0m \u001b[0mtyp\u001b[0m\u001b[0;34m=\u001b[0m\u001b[0mmanager\u001b[0m\u001b[0;34m)\u001b[0m\u001b[0;34m\u001b[0m\u001b[0;34m\u001b[0m\u001b[0m\n\u001b[0m\u001b[1;32m    615\u001b[0m         \u001b[0;32melif\u001b[0m \u001b[0misinstance\u001b[0m\u001b[0;34m(\u001b[0m\u001b[0mdata\u001b[0m\u001b[0;34m,\u001b[0m \u001b[0mma\u001b[0m\u001b[0;34m.\u001b[0m\u001b[0mMaskedArray\u001b[0m\u001b[0;34m)\u001b[0m\u001b[0;34m:\u001b[0m\u001b[0;34m\u001b[0m\u001b[0;34m\u001b[0m\u001b[0m\n\u001b[1;32m    616\u001b[0m             \u001b[0;32mimport\u001b[0m \u001b[0mnumpy\u001b[0m\u001b[0;34m.\u001b[0m\u001b[0mma\u001b[0m\u001b[0;34m.\u001b[0m\u001b[0mmrecords\u001b[0m \u001b[0;32mas\u001b[0m \u001b[0mmrecords\u001b[0m\u001b[0;34m\u001b[0m\u001b[0;34m\u001b[0m\u001b[0m\n",
      "\u001b[0;32m~/opt/anaconda3/lib/python3.7/site-packages/pandas/core/internals/construction.py\u001b[0m in \u001b[0;36mdict_to_mgr\u001b[0;34m(data, index, columns, dtype, typ, copy)\u001b[0m\n\u001b[1;32m    463\u001b[0m \u001b[0;34m\u001b[0m\u001b[0m\n\u001b[1;32m    464\u001b[0m     return arrays_to_mgr(\n\u001b[0;32m--> 465\u001b[0;31m         \u001b[0marrays\u001b[0m\u001b[0;34m,\u001b[0m \u001b[0mdata_names\u001b[0m\u001b[0;34m,\u001b[0m \u001b[0mindex\u001b[0m\u001b[0;34m,\u001b[0m \u001b[0mcolumns\u001b[0m\u001b[0;34m,\u001b[0m \u001b[0mdtype\u001b[0m\u001b[0;34m=\u001b[0m\u001b[0mdtype\u001b[0m\u001b[0;34m,\u001b[0m \u001b[0mtyp\u001b[0m\u001b[0;34m=\u001b[0m\u001b[0mtyp\u001b[0m\u001b[0;34m,\u001b[0m \u001b[0mconsolidate\u001b[0m\u001b[0;34m=\u001b[0m\u001b[0mcopy\u001b[0m\u001b[0;34m\u001b[0m\u001b[0;34m\u001b[0m\u001b[0m\n\u001b[0m\u001b[1;32m    466\u001b[0m     )\n\u001b[1;32m    467\u001b[0m \u001b[0;34m\u001b[0m\u001b[0m\n",
      "\u001b[0;32m~/opt/anaconda3/lib/python3.7/site-packages/pandas/core/internals/construction.py\u001b[0m in \u001b[0;36marrays_to_mgr\u001b[0;34m(arrays, arr_names, index, columns, dtype, verify_integrity, typ, consolidate)\u001b[0m\n\u001b[1;32m    117\u001b[0m         \u001b[0;31m# figure out the index, if necessary\u001b[0m\u001b[0;34m\u001b[0m\u001b[0;34m\u001b[0m\u001b[0;34m\u001b[0m\u001b[0m\n\u001b[1;32m    118\u001b[0m         \u001b[0;32mif\u001b[0m \u001b[0mindex\u001b[0m \u001b[0;32mis\u001b[0m \u001b[0;32mNone\u001b[0m\u001b[0;34m:\u001b[0m\u001b[0;34m\u001b[0m\u001b[0;34m\u001b[0m\u001b[0m\n\u001b[0;32m--> 119\u001b[0;31m             \u001b[0mindex\u001b[0m \u001b[0;34m=\u001b[0m \u001b[0m_extract_index\u001b[0m\u001b[0;34m(\u001b[0m\u001b[0marrays\u001b[0m\u001b[0;34m)\u001b[0m\u001b[0;34m\u001b[0m\u001b[0;34m\u001b[0m\u001b[0m\n\u001b[0m\u001b[1;32m    120\u001b[0m         \u001b[0;32melse\u001b[0m\u001b[0;34m:\u001b[0m\u001b[0;34m\u001b[0m\u001b[0;34m\u001b[0m\u001b[0m\n\u001b[1;32m    121\u001b[0m             \u001b[0mindex\u001b[0m \u001b[0;34m=\u001b[0m \u001b[0mensure_index\u001b[0m\u001b[0;34m(\u001b[0m\u001b[0mindex\u001b[0m\u001b[0;34m)\u001b[0m\u001b[0;34m\u001b[0m\u001b[0;34m\u001b[0m\u001b[0m\n",
      "\u001b[0;32m~/opt/anaconda3/lib/python3.7/site-packages/pandas/core/internals/construction.py\u001b[0m in \u001b[0;36m_extract_index\u001b[0;34m(data)\u001b[0m\n\u001b[1;32m    633\u001b[0m             \u001b[0mlengths\u001b[0m \u001b[0;34m=\u001b[0m \u001b[0mlist\u001b[0m\u001b[0;34m(\u001b[0m\u001b[0mset\u001b[0m\u001b[0;34m(\u001b[0m\u001b[0mraw_lengths\u001b[0m\u001b[0;34m)\u001b[0m\u001b[0;34m)\u001b[0m\u001b[0;34m\u001b[0m\u001b[0;34m\u001b[0m\u001b[0m\n\u001b[1;32m    634\u001b[0m             \u001b[0;32mif\u001b[0m \u001b[0mlen\u001b[0m\u001b[0;34m(\u001b[0m\u001b[0mlengths\u001b[0m\u001b[0;34m)\u001b[0m \u001b[0;34m>\u001b[0m \u001b[0;36m1\u001b[0m\u001b[0;34m:\u001b[0m\u001b[0;34m\u001b[0m\u001b[0;34m\u001b[0m\u001b[0m\n\u001b[0;32m--> 635\u001b[0;31m                 \u001b[0;32mraise\u001b[0m \u001b[0mValueError\u001b[0m\u001b[0;34m(\u001b[0m\u001b[0;34m\"All arrays must be of the same length\"\u001b[0m\u001b[0;34m)\u001b[0m\u001b[0;34m\u001b[0m\u001b[0;34m\u001b[0m\u001b[0m\n\u001b[0m\u001b[1;32m    636\u001b[0m \u001b[0;34m\u001b[0m\u001b[0m\n\u001b[1;32m    637\u001b[0m             \u001b[0;32mif\u001b[0m \u001b[0mhave_dicts\u001b[0m\u001b[0;34m:\u001b[0m\u001b[0;34m\u001b[0m\u001b[0;34m\u001b[0m\u001b[0m\n",
      "\u001b[0;31mValueError\u001b[0m: All arrays must be of the same length"
     ]
    }
   ],
   "source": [
    "#SOAL LATIHAN Nomor_1, carilah error pada coding berikut dan perbaiki\n",
    "\n",
    "df1 = pd.DataFrame(\n",
    "    {\n",
    "        \"A\": 4.0,\n",
    "        \"B\": pd.Timestamp(\"20130102\"),\n",
    "        \"C\": pd.Series(1, index=list(range(5)), dtype=\"float32\"),\n",
    "        \"D\": np.array([2] * 5, dtype=\"int32\"),\n",
    "        \"E\": pd.Categorical([\"kami\", \"mahasiswa\", \"bisnis\", \"digital\"]),\n",
    "        \"F\": \"unm\",\n",
    "    }\n",
    ")\n",
    "df1"
   ]
  },
  {
   "cell_type": "code",
   "execution_count": 66,
   "id": "648d1798-9808-4415-a35c-3bc734eab7ce",
   "metadata": {},
   "outputs": [
    {
     "data": {
      "text/plain": [
       "A           float64\n",
       "B    datetime64[ns]\n",
       "C           float32\n",
       "D             int32\n",
       "E          category\n",
       "F            object\n",
       "dtype: object"
      ]
     },
     "execution_count": 66,
     "metadata": {},
     "output_type": "execute_result"
    }
   ],
   "source": [
    "df1.dtypes"
   ]
  },
  {
   "cell_type": "markdown",
   "id": "e323a812-87c1-4b22-ad14-b035a71bbb9d",
   "metadata": {},
   "source": [
    "#### View Data\n"
   ]
  },
  {
   "cell_type": "code",
   "execution_count": 73,
   "id": "cd1fd6bf-909c-4c98-ae86-0d337ba87e3a",
   "metadata": {},
   "outputs": [
    {
     "data": {
      "text/html": [
       "<div>\n",
       "<style scoped>\n",
       "    .dataframe tbody tr th:only-of-type {\n",
       "        vertical-align: middle;\n",
       "    }\n",
       "\n",
       "    .dataframe tbody tr th {\n",
       "        vertical-align: top;\n",
       "    }\n",
       "\n",
       "    .dataframe thead th {\n",
       "        text-align: right;\n",
       "    }\n",
       "</style>\n",
       "<table border=\"1\" class=\"dataframe\">\n",
       "  <thead>\n",
       "    <tr style=\"text-align: right;\">\n",
       "      <th></th>\n",
       "      <th>A</th>\n",
       "      <th>B</th>\n",
       "      <th>C</th>\n",
       "      <th>D</th>\n",
       "      <th>F</th>\n",
       "    </tr>\n",
       "  </thead>\n",
       "  <tbody>\n",
       "    <tr>\n",
       "      <th>2021-01-01</th>\n",
       "      <td>-1.273804</td>\n",
       "      <td>-1.720169</td>\n",
       "      <td>0.446024</td>\n",
       "      <td>0.092756</td>\n",
       "      <td>-0.105153</td>\n",
       "    </tr>\n",
       "    <tr>\n",
       "      <th>2021-01-02</th>\n",
       "      <td>-0.250388</td>\n",
       "      <td>1.704803</td>\n",
       "      <td>1.937308</td>\n",
       "      <td>-1.247349</td>\n",
       "      <td>-0.137108</td>\n",
       "    </tr>\n",
       "    <tr>\n",
       "      <th>2021-01-03</th>\n",
       "      <td>0.372312</td>\n",
       "      <td>-0.493572</td>\n",
       "      <td>-1.418603</td>\n",
       "      <td>0.058592</td>\n",
       "      <td>-1.214880</td>\n",
       "    </tr>\n",
       "    <tr>\n",
       "      <th>2021-01-04</th>\n",
       "      <td>0.471890</td>\n",
       "      <td>1.568787</td>\n",
       "      <td>-1.968410</td>\n",
       "      <td>-1.598385</td>\n",
       "      <td>0.696232</td>\n",
       "    </tr>\n",
       "    <tr>\n",
       "      <th>2021-01-05</th>\n",
       "      <td>0.797063</td>\n",
       "      <td>-0.211012</td>\n",
       "      <td>0.484663</td>\n",
       "      <td>-0.381633</td>\n",
       "      <td>1.090844</td>\n",
       "    </tr>\n",
       "  </tbody>\n",
       "</table>\n",
       "</div>"
      ],
      "text/plain": [
       "                   A         B         C         D         F\n",
       "2021-01-01 -1.273804 -1.720169  0.446024  0.092756 -0.105153\n",
       "2021-01-02 -0.250388  1.704803  1.937308 -1.247349 -0.137108\n",
       "2021-01-03  0.372312 -0.493572 -1.418603  0.058592 -1.214880\n",
       "2021-01-04  0.471890  1.568787 -1.968410 -1.598385  0.696232\n",
       "2021-01-05  0.797063 -0.211012  0.484663 -0.381633  1.090844"
      ]
     },
     "execution_count": 73,
     "metadata": {},
     "output_type": "execute_result"
    }
   ],
   "source": [
    "df.head()  #top data df"
   ]
  },
  {
   "cell_type": "code",
   "execution_count": 72,
   "id": "653112e3-33c0-4837-abff-8f98a386bbf1",
   "metadata": {},
   "outputs": [
    {
     "data": {
      "text/html": [
       "<div>\n",
       "<style scoped>\n",
       "    .dataframe tbody tr th:only-of-type {\n",
       "        vertical-align: middle;\n",
       "    }\n",
       "\n",
       "    .dataframe tbody tr th {\n",
       "        vertical-align: top;\n",
       "    }\n",
       "\n",
       "    .dataframe thead th {\n",
       "        text-align: right;\n",
       "    }\n",
       "</style>\n",
       "<table border=\"1\" class=\"dataframe\">\n",
       "  <thead>\n",
       "    <tr style=\"text-align: right;\">\n",
       "      <th></th>\n",
       "      <th>A</th>\n",
       "      <th>B</th>\n",
       "      <th>C</th>\n",
       "      <th>D</th>\n",
       "      <th>F</th>\n",
       "    </tr>\n",
       "  </thead>\n",
       "  <tbody>\n",
       "    <tr>\n",
       "      <th>2021-01-10</th>\n",
       "      <td>-1.783996</td>\n",
       "      <td>-0.145875</td>\n",
       "      <td>-0.628139</td>\n",
       "      <td>-0.007983</td>\n",
       "      <td>0.695997</td>\n",
       "    </tr>\n",
       "    <tr>\n",
       "      <th>2021-01-11</th>\n",
       "      <td>0.175716</td>\n",
       "      <td>1.287484</td>\n",
       "      <td>-1.082421</td>\n",
       "      <td>1.205474</td>\n",
       "      <td>-0.754486</td>\n",
       "    </tr>\n",
       "    <tr>\n",
       "      <th>2021-01-12</th>\n",
       "      <td>-0.700512</td>\n",
       "      <td>-0.836212</td>\n",
       "      <td>-1.112997</td>\n",
       "      <td>-0.581123</td>\n",
       "      <td>-0.506306</td>\n",
       "    </tr>\n",
       "  </tbody>\n",
       "</table>\n",
       "</div>"
      ],
      "text/plain": [
       "                   A         B         C         D         F\n",
       "2021-01-10 -1.783996 -0.145875 -0.628139 -0.007983  0.695997\n",
       "2021-01-11  0.175716  1.287484 -1.082421  1.205474 -0.754486\n",
       "2021-01-12 -0.700512 -0.836212 -1.112997 -0.581123 -0.506306"
      ]
     },
     "execution_count": 72,
     "metadata": {},
     "output_type": "execute_result"
    }
   ],
   "source": [
    "df.tail(3) #bottom df"
   ]
  },
  {
   "cell_type": "code",
   "execution_count": 75,
   "id": "4437b301-78e6-46f0-bdfc-9dcb3a3ad020",
   "metadata": {},
   "outputs": [
    {
     "data": {
      "text/plain": [
       "Index(['A', 'B', 'C', 'D', 'F'], dtype='object')"
      ]
     },
     "execution_count": 75,
     "metadata": {},
     "output_type": "execute_result"
    }
   ],
   "source": [
    "df.index"
   ]
  },
  {
   "cell_type": "code",
   "execution_count": 76,
   "id": "86db32c3-f26b-47b2-94cd-9d0f3ffd151f",
   "metadata": {},
   "outputs": [
    {
     "data": {
      "text/plain": [
       "Index(['A', 'B', 'C', 'D', 'F'], dtype='object')"
      ]
     },
     "execution_count": 76,
     "metadata": {},
     "output_type": "execute_result"
    }
   ],
   "source": [
    "df.columns"
   ]
  },
  {
   "cell_type": "code",
   "execution_count": 80,
   "id": "4d503847-24ff-4ff5-b58c-12d85f51593b",
   "metadata": {},
   "outputs": [
    {
     "data": {
      "text/plain": [
       "array([[-1.27380445, -1.72016903,  0.44602361,  0.09275558, -0.10515298],\n",
       "       [-0.25038761,  1.70480279,  1.93730774, -1.24734852, -0.13710834],\n",
       "       [ 0.37231205, -0.49357191, -1.41860291,  0.05859187, -1.2148797 ],\n",
       "       [ 0.47188957,  1.56878749, -1.9684098 , -1.59838521,  0.6962322 ],\n",
       "       [ 0.79706259, -0.21101214,  0.48466332, -0.38163313,  1.09084404],\n",
       "       [ 0.56844414, -1.10624992, -1.67645955, -0.32723499, -0.24465307],\n",
       "       [-0.67378122, -0.56884021, -0.02175697,  0.89208575, -1.21846329],\n",
       "       [-0.03746698,  1.91560244, -0.89614748, -0.54910851,  1.06930697],\n",
       "       [ 0.59742011, -0.65050091, -0.68658309, -0.66766331, -0.65728428],\n",
       "       [-1.78399569, -0.14587506, -0.6281391 , -0.00798268,  0.69599712],\n",
       "       [ 0.17571648,  1.28748351, -1.08242149,  1.20547374, -0.75448637],\n",
       "       [-0.70051227, -0.83621243, -1.1129966 , -0.58112313, -0.50630615]])"
      ]
     },
     "execution_count": 80,
     "metadata": {},
     "output_type": "execute_result"
    }
   ],
   "source": [
    "df.to_numpy()  #konver df ke numpy"
   ]
  },
  {
   "cell_type": "code",
   "execution_count": 96,
   "id": "52ac34f8-c214-47de-8837-ad0c21078a9e",
   "metadata": {},
   "outputs": [
    {
     "data": {
      "text/html": [
       "<div>\n",
       "<style scoped>\n",
       "    .dataframe tbody tr th:only-of-type {\n",
       "        vertical-align: middle;\n",
       "    }\n",
       "\n",
       "    .dataframe tbody tr th {\n",
       "        vertical-align: top;\n",
       "    }\n",
       "\n",
       "    .dataframe thead th {\n",
       "        text-align: right;\n",
       "    }\n",
       "</style>\n",
       "<table border=\"1\" class=\"dataframe\">\n",
       "  <thead>\n",
       "    <tr style=\"text-align: right;\">\n",
       "      <th></th>\n",
       "      <th>nama</th>\n",
       "      <th>umur</th>\n",
       "      <th>propinsi</th>\n",
       "    </tr>\n",
       "  </thead>\n",
       "  <tbody>\n",
       "    <tr>\n",
       "      <th>0</th>\n",
       "      <td>alam</td>\n",
       "      <td>23</td>\n",
       "      <td>Sulsel</td>\n",
       "    </tr>\n",
       "    <tr>\n",
       "      <th>1</th>\n",
       "      <td>beni</td>\n",
       "      <td>34</td>\n",
       "      <td>Jatim</td>\n",
       "    </tr>\n",
       "    <tr>\n",
       "      <th>2</th>\n",
       "      <td>chalik</td>\n",
       "      <td>19</td>\n",
       "      <td>DKI</td>\n",
       "    </tr>\n",
       "    <tr>\n",
       "      <th>3</th>\n",
       "      <td>dewi</td>\n",
       "      <td>29</td>\n",
       "      <td>Bali</td>\n",
       "    </tr>\n",
       "    <tr>\n",
       "      <th>4</th>\n",
       "      <td>eka</td>\n",
       "      <td>32</td>\n",
       "      <td>Jabar</td>\n",
       "    </tr>\n",
       "    <tr>\n",
       "      <th>5</th>\n",
       "      <td>fani</td>\n",
       "      <td>40</td>\n",
       "      <td>NTT</td>\n",
       "    </tr>\n",
       "    <tr>\n",
       "      <th>6</th>\n",
       "      <td>gun</td>\n",
       "      <td>44</td>\n",
       "      <td>Papua</td>\n",
       "    </tr>\n",
       "  </tbody>\n",
       "</table>\n",
       "</div>"
      ],
      "text/plain": [
       "     nama  umur propinsi\n",
       "0    alam    23   Sulsel\n",
       "1    beni    34    Jatim\n",
       "2  chalik    19      DKI\n",
       "3    dewi    29     Bali\n",
       "4     eka    32    Jabar\n",
       "5    fani    40      NTT\n",
       "6     gun    44    Papua"
      ]
     },
     "execution_count": 96,
     "metadata": {},
     "output_type": "execute_result"
    }
   ],
   "source": [
    "import pandas as pd\n",
    "df2 = pd.DataFrame({\n",
    "        'nama':['alam','beni','chalik','dewi','eka','fani', 'gun'],\n",
    "        'umur':[23,34,19,29,32,40,44],\n",
    "        'propinsi':[' Sulsel','Jatim','DKI','Bali','Jabar','NTT', 'Papua'] })\n",
    "df2"
   ]
  },
  {
   "cell_type": "markdown",
   "id": "48a5204a-0a02-45d8-bf98-ce42fc5e4dd0",
   "metadata": {},
   "source": [
    "##### Soal Latihan 2\n",
    "Tampilkan 3 data pertama dari df2 di atas\n"
   ]
  },
  {
   "cell_type": "code",
   "execution_count": 92,
   "id": "874c6fdd-77b6-4c6a-b002-bc60db691de7",
   "metadata": {},
   "outputs": [],
   "source": [
    "#Jawaban No.2\n"
   ]
  },
  {
   "cell_type": "markdown",
   "id": "90f2621d-4a6b-475f-92ca-7162a0ca15ed",
   "metadata": {},
   "source": [
    "##### Soal Latihan 3\n",
    "Tampilkan 2 data terakhir dari df.2 di atas"
   ]
  },
  {
   "cell_type": "code",
   "execution_count": 93,
   "id": "9fe5440b-b34c-4d5c-a2b5-0db628915b9c",
   "metadata": {},
   "outputs": [],
   "source": [
    "# Jawaban No.3"
   ]
  },
  {
   "cell_type": "markdown",
   "id": "ec8c8555-7b3f-4533-9653-aa2e00e891ab",
   "metadata": {},
   "source": [
    "### describe() \n",
    "menampilkan statistik singkat dari data\n"
   ]
  },
  {
   "cell_type": "code",
   "execution_count": 97,
   "id": "3699fece-4924-4190-a9c5-32394eeb5097",
   "metadata": {},
   "outputs": [
    {
     "data": {
      "text/html": [
       "<div>\n",
       "<style scoped>\n",
       "    .dataframe tbody tr th:only-of-type {\n",
       "        vertical-align: middle;\n",
       "    }\n",
       "\n",
       "    .dataframe tbody tr th {\n",
       "        vertical-align: top;\n",
       "    }\n",
       "\n",
       "    .dataframe thead th {\n",
       "        text-align: right;\n",
       "    }\n",
       "</style>\n",
       "<table border=\"1\" class=\"dataframe\">\n",
       "  <thead>\n",
       "    <tr style=\"text-align: right;\">\n",
       "      <th></th>\n",
       "      <th>umur</th>\n",
       "    </tr>\n",
       "  </thead>\n",
       "  <tbody>\n",
       "    <tr>\n",
       "      <th>count</th>\n",
       "      <td>7.000000</td>\n",
       "    </tr>\n",
       "    <tr>\n",
       "      <th>mean</th>\n",
       "      <td>31.571429</td>\n",
       "    </tr>\n",
       "    <tr>\n",
       "      <th>std</th>\n",
       "      <td>8.847921</td>\n",
       "    </tr>\n",
       "    <tr>\n",
       "      <th>min</th>\n",
       "      <td>19.000000</td>\n",
       "    </tr>\n",
       "    <tr>\n",
       "      <th>25%</th>\n",
       "      <td>26.000000</td>\n",
       "    </tr>\n",
       "    <tr>\n",
       "      <th>50%</th>\n",
       "      <td>32.000000</td>\n",
       "    </tr>\n",
       "    <tr>\n",
       "      <th>75%</th>\n",
       "      <td>37.000000</td>\n",
       "    </tr>\n",
       "    <tr>\n",
       "      <th>max</th>\n",
       "      <td>44.000000</td>\n",
       "    </tr>\n",
       "  </tbody>\n",
       "</table>\n",
       "</div>"
      ],
      "text/plain": [
       "            umur\n",
       "count   7.000000\n",
       "mean   31.571429\n",
       "std     8.847921\n",
       "min    19.000000\n",
       "25%    26.000000\n",
       "50%    32.000000\n",
       "75%    37.000000\n",
       "max    44.000000"
      ]
     },
     "execution_count": 97,
     "metadata": {},
     "output_type": "execute_result"
    }
   ],
   "source": [
    "df2.describe()"
   ]
  },
  {
   "cell_type": "markdown",
   "id": "4dc76dd3-f379-40ed-a0a1-97ce9bc634cb",
   "metadata": {},
   "source": [
    "#### Cara import data \n",
    "\n",
    "1. Import pandas\n",
    "2. Definisikan variabel untuk menyimpan path url atau file dataset (dalam folder)\n",
    "3. Gunakan method read_csv untuk mengimport data (tipe file.csv), pastikan mengetahui atribut data. "
   ]
  },
  {
   "cell_type": "code",
   "execution_count": 19,
   "id": "ee97809e-e71d-4f74-98ed-9b3581870b42",
   "metadata": {},
   "outputs": [
    {
     "data": {
      "text/html": [
       "<div>\n",
       "<style scoped>\n",
       "    .dataframe tbody tr th:only-of-type {\n",
       "        vertical-align: middle;\n",
       "    }\n",
       "\n",
       "    .dataframe tbody tr th {\n",
       "        vertical-align: top;\n",
       "    }\n",
       "\n",
       "    .dataframe thead th {\n",
       "        text-align: right;\n",
       "    }\n",
       "</style>\n",
       "<table border=\"1\" class=\"dataframe\">\n",
       "  <thead>\n",
       "    <tr style=\"text-align: right;\">\n",
       "      <th></th>\n",
       "      <th>0</th>\n",
       "      <th>1</th>\n",
       "      <th>2</th>\n",
       "      <th>3</th>\n",
       "      <th>4</th>\n",
       "      <th>5</th>\n",
       "      <th>6</th>\n",
       "      <th>7</th>\n",
       "      <th>8</th>\n",
       "      <th>9</th>\n",
       "      <th>...</th>\n",
       "      <th>16</th>\n",
       "      <th>17</th>\n",
       "      <th>18</th>\n",
       "      <th>19</th>\n",
       "      <th>20</th>\n",
       "      <th>21</th>\n",
       "      <th>22</th>\n",
       "      <th>23</th>\n",
       "      <th>24</th>\n",
       "      <th>25</th>\n",
       "    </tr>\n",
       "  </thead>\n",
       "  <tbody>\n",
       "    <tr>\n",
       "      <th>0</th>\n",
       "      <td>3</td>\n",
       "      <td>?</td>\n",
       "      <td>alfa-romero</td>\n",
       "      <td>gas</td>\n",
       "      <td>std</td>\n",
       "      <td>two</td>\n",
       "      <td>convertible</td>\n",
       "      <td>rwd</td>\n",
       "      <td>front</td>\n",
       "      <td>88.6</td>\n",
       "      <td>...</td>\n",
       "      <td>130</td>\n",
       "      <td>mpfi</td>\n",
       "      <td>3.47</td>\n",
       "      <td>2.68</td>\n",
       "      <td>9.0</td>\n",
       "      <td>111</td>\n",
       "      <td>5000</td>\n",
       "      <td>21</td>\n",
       "      <td>27</td>\n",
       "      <td>13495</td>\n",
       "    </tr>\n",
       "    <tr>\n",
       "      <th>1</th>\n",
       "      <td>3</td>\n",
       "      <td>?</td>\n",
       "      <td>alfa-romero</td>\n",
       "      <td>gas</td>\n",
       "      <td>std</td>\n",
       "      <td>two</td>\n",
       "      <td>convertible</td>\n",
       "      <td>rwd</td>\n",
       "      <td>front</td>\n",
       "      <td>88.6</td>\n",
       "      <td>...</td>\n",
       "      <td>130</td>\n",
       "      <td>mpfi</td>\n",
       "      <td>3.47</td>\n",
       "      <td>2.68</td>\n",
       "      <td>9.0</td>\n",
       "      <td>111</td>\n",
       "      <td>5000</td>\n",
       "      <td>21</td>\n",
       "      <td>27</td>\n",
       "      <td>16500</td>\n",
       "    </tr>\n",
       "    <tr>\n",
       "      <th>2</th>\n",
       "      <td>1</td>\n",
       "      <td>?</td>\n",
       "      <td>alfa-romero</td>\n",
       "      <td>gas</td>\n",
       "      <td>std</td>\n",
       "      <td>two</td>\n",
       "      <td>hatchback</td>\n",
       "      <td>rwd</td>\n",
       "      <td>front</td>\n",
       "      <td>94.5</td>\n",
       "      <td>...</td>\n",
       "      <td>152</td>\n",
       "      <td>mpfi</td>\n",
       "      <td>2.68</td>\n",
       "      <td>3.47</td>\n",
       "      <td>9.0</td>\n",
       "      <td>154</td>\n",
       "      <td>5000</td>\n",
       "      <td>19</td>\n",
       "      <td>26</td>\n",
       "      <td>16500</td>\n",
       "    </tr>\n",
       "    <tr>\n",
       "      <th>3</th>\n",
       "      <td>2</td>\n",
       "      <td>164</td>\n",
       "      <td>audi</td>\n",
       "      <td>gas</td>\n",
       "      <td>std</td>\n",
       "      <td>four</td>\n",
       "      <td>sedan</td>\n",
       "      <td>fwd</td>\n",
       "      <td>front</td>\n",
       "      <td>99.8</td>\n",
       "      <td>...</td>\n",
       "      <td>109</td>\n",
       "      <td>mpfi</td>\n",
       "      <td>3.19</td>\n",
       "      <td>3.40</td>\n",
       "      <td>10.0</td>\n",
       "      <td>102</td>\n",
       "      <td>5500</td>\n",
       "      <td>24</td>\n",
       "      <td>30</td>\n",
       "      <td>13950</td>\n",
       "    </tr>\n",
       "    <tr>\n",
       "      <th>4</th>\n",
       "      <td>2</td>\n",
       "      <td>164</td>\n",
       "      <td>audi</td>\n",
       "      <td>gas</td>\n",
       "      <td>std</td>\n",
       "      <td>four</td>\n",
       "      <td>sedan</td>\n",
       "      <td>4wd</td>\n",
       "      <td>front</td>\n",
       "      <td>99.4</td>\n",
       "      <td>...</td>\n",
       "      <td>136</td>\n",
       "      <td>mpfi</td>\n",
       "      <td>3.19</td>\n",
       "      <td>3.40</td>\n",
       "      <td>8.0</td>\n",
       "      <td>115</td>\n",
       "      <td>5500</td>\n",
       "      <td>18</td>\n",
       "      <td>22</td>\n",
       "      <td>17450</td>\n",
       "    </tr>\n",
       "  </tbody>\n",
       "</table>\n",
       "<p>5 rows × 26 columns</p>\n",
       "</div>"
      ],
      "text/plain": [
       "   0    1            2    3    4     5            6    7      8     9   ...  \\\n",
       "0   3    ?  alfa-romero  gas  std   two  convertible  rwd  front  88.6  ...   \n",
       "1   3    ?  alfa-romero  gas  std   two  convertible  rwd  front  88.6  ...   \n",
       "2   1    ?  alfa-romero  gas  std   two    hatchback  rwd  front  94.5  ...   \n",
       "3   2  164         audi  gas  std  four        sedan  fwd  front  99.8  ...   \n",
       "4   2  164         audi  gas  std  four        sedan  4wd  front  99.4  ...   \n",
       "\n",
       "    16    17    18    19    20   21    22  23  24     25  \n",
       "0  130  mpfi  3.47  2.68   9.0  111  5000  21  27  13495  \n",
       "1  130  mpfi  3.47  2.68   9.0  111  5000  21  27  16500  \n",
       "2  152  mpfi  2.68  3.47   9.0  154  5000  19  26  16500  \n",
       "3  109  mpfi  3.19  3.40  10.0  102  5500  24  30  13950  \n",
       "4  136  mpfi  3.19  3.40   8.0  115  5500  18  22  17450  \n",
       "\n",
       "[5 rows x 26 columns]"
      ]
     },
     "execution_count": 19,
     "metadata": {},
     "output_type": "execute_result"
    }
   ],
   "source": [
    "import pandas as pd\n",
    "import numpy as np\n",
    "url = \"https://archive.ics.uci.edu/ml/machine-learning-databases/autos/imports-85.data\"\n",
    "df = pd.read_csv(url, header=None)\n",
    "df.head()     #bandingkan dengan perintah print(df.head())"
   ]
  },
  {
   "cell_type": "markdown",
   "id": "a680fa5e-8d01-4105-b59f-462ae1f95ab2",
   "metadata": {},
   "source": [
    "### Link Database \n",
    "\n",
    "https://archive.ics.uci.edu/ml/machine-learning-databases/"
   ]
  },
  {
   "cell_type": "code",
   "execution_count": 32,
   "id": "2bcf216c-174d-48ea-8c02-711a3777df13",
   "metadata": {},
   "outputs": [
    {
     "data": {
      "text/plain": [
       "[     Unnamed: 0  kode_negara     negara  kode_kategori        kategori  \\\n",
       " 0           NaN          101  Indonesia           5312  Area harvested   \n",
       " 1           NaN          101  Indonesia           5312  Area harvested   \n",
       " 2           NaN          101  Indonesia           5312  Area harvested   \n",
       " 3           NaN          101  Indonesia           5312  Area harvested   \n",
       " 4           NaN          101  Indonesia           5312  Area harvested   \n",
       " ..          ...          ...        ...            ...             ...   \n",
       " 821         NaN          101  Indonesia           5510      Production   \n",
       " 822         NaN          101  Indonesia           5510      Production   \n",
       " 823         NaN          101  Indonesia           5510      Production   \n",
       " 824         NaN          101  Indonesia           5510      Production   \n",
       " 825         NaN          101  Indonesia           5510      Production   \n",
       " \n",
       "      kode_komoditas                komoditas  kode_tahun  tahun  satuan  \\\n",
       " 0               486                  Bananas        1961   1961      ha   \n",
       " 1               486                  Bananas        1962   1962      ha   \n",
       " 2               486                  Bananas        1963   1963      ha   \n",
       " 3               486                  Bananas        1964   1964      ha   \n",
       " 4               486                  Bananas        1965   1965      ha   \n",
       " ..              ...                      ...         ...    ...     ...   \n",
       " 821             826  Tobacco, unmanufactured        2015   2015  tonnes   \n",
       " 822             826  Tobacco, unmanufactured        2016   2016  tonnes   \n",
       " 823             826  Tobacco, unmanufactured        2017   2017  tonnes   \n",
       " 824             826  Tobacco, unmanufactured        2018   2018  tonnes   \n",
       " 825             826  Tobacco, unmanufactured        2019   2019  tonnes   \n",
       " \n",
       "       nilai     keterangan  \n",
       " 0    126000   FAO estimate  \n",
       " 1    130000   FAO estimate  \n",
       " 2    135000   FAO estimate  \n",
       " 3    140000   FAO estimate  \n",
       " 4    145000   FAO estimate  \n",
       " ..      ...            ...  \n",
       " 821  193790  Official data  \n",
       " 822  126728  Official data  \n",
       " 823  181142  Official data  \n",
       " 824  195482  Official data  \n",
       " 825  197250  Official data  \n",
       " \n",
       " [826 rows x 12 columns]]"
      ]
     },
     "execution_count": 32,
     "metadata": {},
     "output_type": "execute_result"
    }
   ],
   "source": [
    "\n",
    "url = \"https://github.com/Alam-A99/Visualisation/blob/main/dataset_visualisasi-indonesia.csv\"\n",
    "df = pd.read_html(url)   #membaca file dari link\n",
    "df"
   ]
  },
  {
   "cell_type": "markdown",
   "id": "7332e1f7-f826-40ae-a869-ba82b2117c87",
   "metadata": {},
   "source": [
    "### SOAL LATIHAN 4\n",
    "SILAKAN MENGEKPLORASI LEBIH JAUH FUNGSI-FUNGSI PANDAS YANG LAIN SEPERTI BERIKUT, BERIKAN CONTOH MASING-MASING MINIMAL 2.\n",
    "\n",
    "- Pandas Index\n",
    "- Pandas String and Regular Expression\n",
    "- Pandas Joining and merging DataFrames\n",
    "- Pandas Time Series\n",
    "- Pandas Filter\n",
    "- Pandas Grouping and Aggregating\n",
    "- Pandas Missing Values\n",
    "- Pandas Style"
   ]
  },
  {
   "cell_type": "code",
   "execution_count": null,
   "id": "78b4db48-536e-412b-ad5e-ae570aaaadfd",
   "metadata": {},
   "outputs": [],
   "source": []
  }
 ],
 "metadata": {
  "kernelspec": {
   "display_name": "Python 3 (ipykernel)",
   "language": "python",
   "name": "python3"
  },
  "language_info": {
   "codemirror_mode": {
    "name": "ipython",
    "version": 3
   },
   "file_extension": ".py",
   "mimetype": "text/x-python",
   "name": "python",
   "nbconvert_exporter": "python",
   "pygments_lexer": "ipython3",
   "version": "3.7.4"
  }
 },
 "nbformat": 4,
 "nbformat_minor": 5
}
